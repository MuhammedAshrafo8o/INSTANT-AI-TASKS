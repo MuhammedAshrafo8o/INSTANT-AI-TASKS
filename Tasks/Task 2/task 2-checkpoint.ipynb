{
 "cells": [
  {
   "cell_type": "code",
   "execution_count": 1,
   "id": "7cb31a88",
   "metadata": {},
   "outputs": [
    {
     "name": "stdout",
     "output_type": "stream",
     "text": [
      "enter the number please  -5\n",
      "the absolute value of your number is :  5\n"
     ]
    }
   ],
   "source": [
    "x_value = int(input(\"enter the number please \"))\n",
    "if x_value < 0:\n",
    "    y_value = - x_value\n",
    "    print(\"the absolute value of your number is : \",y_value)\n",
    "else:\n",
    "    print(\"you number is: \",x_value)\n",
    "    "
   ]
  },
  {
   "cell_type": "code",
   "execution_count": 3,
   "id": "a055d037",
   "metadata": {},
   "outputs": [
    {
     "name": "stdout",
     "output_type": "stream",
     "text": [
      "Enter The year please 2024\n",
      "this is Leap year\n"
     ]
    }
   ],
   "source": [
    "year = int(input(\"Enter The year please \"))\n",
    "if year % 4 == 0:\n",
    "    print(\"this is Leap year\")\n",
    "else:\n",
    "    print(\"this is normal year\")"
   ]
  },
  {
   "cell_type": "code",
   "execution_count": 4,
   "id": "0d3f0c94",
   "metadata": {},
   "outputs": [
    {
     "name": "stdout",
     "output_type": "stream",
     "text": [
      "Enter your age, please: 12\n",
      "Enter your age, please: 10\n",
      "Enter your age, please: 14\n",
      "The oldest age here is: 14\n",
      "The youngest age here is: 10\n"
     ]
    }
   ],
   "source": [
    "i = 1\n",
    "max = 0\n",
    "min = 0\n",
    "\n",
    "while i <= 3:\n",
    "    age = int(input(\"Enter your age, please: \"))\n",
    "    \n",
    "    if max == 0 or age > max:\n",
    "        max = age\n",
    "    \n",
    "    if min== 0 or age < min:\n",
    "        min = age\n",
    "\n",
    "    i += 1\n",
    "\n",
    "print(\"The oldest age here is:\", max)\n",
    "print(\"The youngest age here is:\", min)\n",
    "\n",
    "\n"
   ]
  },
  {
   "cell_type": "code",
   "execution_count": 5,
   "id": "56f427af",
   "metadata": {},
   "outputs": [
    {
     "name": "stdout",
     "output_type": "stream",
     "text": [
      "enter the value that u want to encyrptmamo@123\n",
      "Original data: mamo@123\n",
      "Encrypted data: b'gAAAAABlP4LL1kKUDLkpoj3s0rF6_MNtQAKz8swjXt3EpEzspXcHDFk80TLLmQRcyN845uvj41-xjuwE8ZdDvyPG_8ouLYqTgg=='\n",
      "Decrypted data: mamo@123\n"
     ]
    }
   ],
   "source": [
    "from cryptography.fernet import Fernet\n",
    "\n",
    "# Generate a key for encryption\n",
    "key = Fernet.generate_key()\n",
    "\n",
    "# Initialize the Fernet cipher\n",
    "cipher_suite = Fernet(key)\n",
    "\n",
    "# Data to be encrypted\n",
    "data = input(\"enter the value that u want to encyrpt\")\n",
    "\n",
    "# Encrypt the data\n",
    "encrypted_data = cipher_suite.encrypt(data.encode())\n",
    "\n",
    "# Decrypt the data\n",
    "decrypted_data = cipher_suite.decrypt(encrypted_data).decode()\n",
    "\n",
    "print(\"Original data:\", data)\n",
    "\n",
    "print(\"Encrypted data:\", encrypted_data)\n",
    "print(\"Decrypted data:\", decrypted_data)"
   ]
  },
  {
   "cell_type": "code",
   "execution_count": null,
   "id": "fa0d53c5",
   "metadata": {},
   "outputs": [],
   "source": []
  }
 ],
 "metadata": {
  "kernelspec": {
   "display_name": "Python 3 (ipykernel)",
   "language": "python",
   "name": "python3"
  },
  "language_info": {
   "codemirror_mode": {
    "name": "ipython",
    "version": 3
   },
   "file_extension": ".py",
   "mimetype": "text/x-python",
   "name": "python",
   "nbconvert_exporter": "python",
   "pygments_lexer": "ipython3",
   "version": "3.11.5"
  }
 },
 "nbformat": 4,
 "nbformat_minor": 5
}
